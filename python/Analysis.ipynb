{
 "cells": [
  {
   "cell_type": "code",
   "execution_count": 1,
   "metadata": {},
   "outputs": [],
   "source": [
    "import matplotlib\n",
    "import matplotlib.pyplot as plt\n",
    "import numpy as np\n",
    "import h5py\n",
    "import os\n",
    "import re"
   ]
  },
  {
   "cell_type": "code",
   "execution_count": 2,
   "metadata": {},
   "outputs": [],
   "source": [
    "def getproj(z):\n",
    "    #global rscale, thetascale, phiscale, theta_index\n",
    "    theta_inverse = thetascale[int(temp.shape[2]/2):][::-1]\n",
    "    theta_index = np.searchsorted((z / np.cos(theta_inverse)), r_outer)\n",
    "    r_desired = (z / np.cos(theta_inverse))[:theta_index]\n",
    "    r_projected = np.array([a*b for a,b in zip(r_desired, np.sin(theta_inverse[:theta_index]))])\n",
    "    phi_pad = np.append(phiscale[:], 2*np.pi)\n",
    "    r_proj_pad   = np.pad(r_projected[:], ((0,1)), mode='constant', constant_values=(0,r_projected[-1]))\n",
    "    s_mesh, phi_mesh = np.meshgrid(r_proj_pad,phi_pad)\n",
    "    return r_desired, theta_index, s_mesh, phi_mesh"
   ]
  },
  {
   "cell_type": "code",
   "execution_count": 3,
   "metadata": {},
   "outputs": [],
   "source": [
    "def getplotdata(r_desired):\n",
    "    #global inter_index, inter_temp\n",
    "    inter_index = np.array([np.searchsorted(rscale,r_desired[i]) for i in range(theta_index)])\n",
    "    inter_index = np.array([inter_index - 1, inter_index]).T\n",
    "    inter_temp = temp[:,:,int(temp.shape[2]/2):,:]\n",
    "    inter_temp = np.flip(inter_temp,2)\n",
    "    plot_data = [[np.interp(r_desired[i], rscale[inter_index[i]], j) for j in inter_temp[:,:,i,inter_index[i]].reshape(-1,2)] for i in range(theta_index)]\n",
    "    plot_data = np.array(plot_data).T.reshape(temp.shape[0],-1,theta_index)\n",
    "    return plot_data"
   ]
  },
  {
   "cell_type": "code",
   "execution_count": 4,
   "metadata": {
    "scrolled": true
   },
   "outputs": [],
   "source": [
    "files = []\n",
    "mydir = \"checkpoint_test\"\n",
    "for file in os.listdir(mydir):\n",
    "    if file.endswith(\".h5\"):\n",
    "        files.append(os.path.join(mydir, file))\n",
    "files.sort(key=lambda f: int(re.sub('\\D','', f)))\n",
    "\n",
    "r_inner = 7/13.\n",
    "r_outer = 20./13."
   ]
  },
  {
   "cell_type": "code",
   "execution_count": 5,
   "metadata": {},
   "outputs": [],
   "source": [
    "counter = 0\n",
    "for file in files:\n",
    "    df = h5py.File(file,\"r\")\n",
    "    temp = df['tasks']['T']\n",
    "    \n",
    "    if counter == 0:\n",
    "        rscale = temp.dims[3][0][:]\n",
    "        thetascale = temp.dims[2][0][:]\n",
    "        phiscale = temp.dims[1][0][:]\n",
    "        r_desired, theta_index, s_mesh, phi_mesh = getproj(0.5*(r_outer-r_inner)+r_inner)\n",
    "    \n",
    "    temp = np.array(temp)\n",
    "    \n",
    "    plot_data = getplotdata(r_desired)\n",
    "    \n",
    "    for data in plot_data:\n",
    "        fig, ax = plt.subplots(subplot_kw=dict(polar=True))\n",
    "        pcm = ax.pcolormesh(phi_mesh, s_mesh, data, cmap='RdYlBu_r')\n",
    "        plt.colorbar(pcm)\n",
    "        plt.savefig(str(mydir)+'/%s_%04i.png' %(\"plot\".format(0), counter), dpi=150)\n",
    "        plt.close(fig)\n",
    "        counter += 1"
   ]
  }
 ],
 "metadata": {
  "kernelspec": {
   "display_name": "Python 3",
   "language": "python",
   "name": "python3"
  },
  "language_info": {
   "codemirror_mode": {
    "name": "ipython",
    "version": 3
   },
   "file_extension": ".py",
   "mimetype": "text/x-python",
   "name": "python",
   "nbconvert_exporter": "python",
   "pygments_lexer": "ipython3",
   "version": "3.8.5"
  }
 },
 "nbformat": 4,
 "nbformat_minor": 4
}
