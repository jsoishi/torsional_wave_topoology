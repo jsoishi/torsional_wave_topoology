{
 "cells": [
  {
   "cell_type": "code",
   "execution_count": 1,
   "metadata": {},
   "outputs": [],
   "source": [
    "import matplotlib\n",
    "import matplotlib.pyplot as plt\n",
    "import numpy as np\n",
    "import h5py\n",
    "import os\n",
    "import re\n",
    "#from scipy.interpolate import griddata\n",
    "from scipy.spatial import Delaunay\n",
    "from scipy.interpolate import LinearNDInterpolator\n",
    "from scipy.interpolate import CloughTocher2DInterpolator\n",
    "#from dedalus import public as de"
   ]
  },
  {
   "cell_type": "code",
   "execution_count": 2,
   "metadata": {},
   "outputs": [],
   "source": [
    "def getproj(z, r_inner, r_outer):    \n",
    "    if np.abs(z) < r_inner: \n",
    "        start_point = np.sqrt(r_inner**2 - z**2)\n",
    "    else:\n",
    "        start_point = 0\n",
    "    end_point = np.sqrt(r_outer**2 - z**2)\n",
    "    gridpoints = int(rscale.shape[0]/(r_outer-r_inner) * (end_point-start_point))\n",
    "    \n",
    "    #finding equidistant point with the same density as the original grid along the path of interpolation\n",
    "    z_desired = np.asarray(np.linspace( start_point, end_point, num = gridpoints, endpoint = False))\n",
    "    y_coord = np.asarray([z for _ in z_desired])\n",
    "    inter_coord = np.asarray([z_desired, y_coord]).T\n",
    "    \n",
    "    #padding and mesh\n",
    "    phi_pad = np.append(phiscale[:], 2*np.pi)\n",
    "    s_pad   = np.append(z_desired[:], end_point)\n",
    "    s_mesh, phi_mesh = np.meshgrid(s_pad, phi_pad)\n",
    "    \n",
    "    return inter_coord, s_mesh, phi_mesh"
   ]
  },
  {
   "cell_type": "code",
   "execution_count": 3,
   "metadata": {},
   "outputs": [],
   "source": [
    "def getplotdata(data, xykeys, datakeys):\n",
    "    # this function creates a dictionary so I can find points more relevant with their coordinates\n",
    "    datapoints = data.reshape(data.shape[0],-1)\n",
    "    datadic = dict(zip(xykeys, datapoints.T))\n",
    "    datas = np.asarray([datadic[key] for key in datakeys]).T\n",
    "    return datas"
   ]
  },
  {
   "cell_type": "code",
   "execution_count": 4,
   "metadata": {
    "scrolled": true
   },
   "outputs": [],
   "source": [
    "def plotnsave(val, s_mesh, phi_mesh, mydir, y):\n",
    "    fig, ax = plt.subplots(subplot_kw=dict(polar=True))\n",
    "    pcm = ax.pcolormesh(phi_mesh, s_mesh, val, cmap='RdYlBu_r',vmin = vmin, vmax = vmax)\n",
    "    ax.set_xticks([])\n",
    "    ax.set_axis_off()\n",
    "    ax.set_rlim([0, r_outer])\n",
    "    cbar_ax = fig.add_axes([0.8, 0.2, 0.02, 0.6])\n",
    "    cb = fig.colorbar(pcm, cax=cbar_ax)\n",
    "    #these three line draws the boundaries, because axis_off\n",
    "    ones = np.ones(100)\n",
    "    angles = np.linspace(0, 2*np.pi,100)\n",
    "    style = (0,(4,10))\n",
    "    if s_mesh[1,0]!= 0:\n",
    "        ax.fill_between(angles, s_mesh[1,0]*ones, y2 =s_mesh[1,0]*ones, fc='w')\n",
    "    ax.fill_between(angles, r_inner*ones, y2 =r_inner*ones, fc='none', ec = 'k', linestyle = style)\n",
    "    ax.fill_between(angles, s_mesh[1,-1]*ones, y2 =s_mesh[1,-1]*ones, fc='none', ec = 'k', linestyle = '-')\n",
    "    ax.fill_between(angles, r_outer*ones, y2 =r_outer*ones, fc='none', ec = 'k', linestyle = style, linewidth=2.0)\n",
    "    \n",
    "    cb.set_label(plotvar, rotation=0)\n",
    "\n",
    "    plt.savefig(mydir  + '/z%.3f_plot/%s_%04i' %(y ,\"plot\".format(0), counter) + '_' + plotvar + '.png', dpi=150)\n",
    "    plt.close(fig)"
   ]
  },
  {
   "cell_type": "code",
   "execution_count": 37,
   "metadata": {},
   "outputs": [],
   "source": [
    "#    if data.ndim == 5: np.linalg.norm(data, axis=4)\n",
    "#if i want better performance:\n",
    "#google: speedup scipy griddata for multiple interpolations between two irregular grids\n",
    "def makeplots(mydir, r_inner, r_outer, y):\n",
    "    #maybe not the best way, but I got lazy, and didn't want to not wrap everything in a function\n",
    "    global files, data, rscale, thetascale, phiscale, counter, s_mesh, phi_mesh\n",
    "    \n",
    "    files = []\n",
    "    for file in os.listdir(mydir):\n",
    "        if file.endswith(\".h5\"):\n",
    "            files.append(os.path.join(mydir, file))\n",
    "    files.sort(key=lambda f: int(re.sub('\\D','', f)))\n",
    "    \n",
    "    if cutheadtail:\n",
    "        files = files[5:-2]\n",
    "    \n",
    "    counter = 0\n",
    "    zdata = []\n",
    "    \n",
    "    for file in files:\n",
    "        df = h5py.File(file,\"r\")\n",
    "        \n",
    "        dname = 'tasks/' + plotvar\n",
    "        dataset = df[dname]\n",
    "        data = np.asarray(dataset, dtype = np.float64)\n",
    "        if data.ndim == 5:\n",
    "            data = data[:,0,:,:,:]\n",
    "        \n",
    "        if counter == 0:\n",
    "            \n",
    "            rscale = dataset.dims[3][0][:]\n",
    "            thetascale = dataset.dims[2][0][:]\n",
    "            phiscale = dataset.dims[1][0][:]\n",
    "\n",
    "            inter_coord, s_mesh, phi_mesh = getproj(y, r_inner, r_outer)\n",
    "\n",
    "            xygrid = np.asarray([[r*np.sin(theta), r*np.cos(theta)] for theta in thetascale for r in rscale])\n",
    "            inbetween = np.asarray([xy for xy in xygrid if (y - 1/26) <= xy[1] <= (y + 1/26)])\n",
    "            # inbetween contains the relevent points. the smaller the set the faster the plot\n",
    "            \n",
    "            if method == 'fastlinear' or method == 'fastcubic':\n",
    "                tri = Delaunay(inbetween) #triangulation that speeds up the process\n",
    "            \n",
    "            xykeys = list(map(str,xygrid))\n",
    "            datakeys = list(map(str, inbetween))\n",
    "            \n",
    "            plot_dir = mydir + '/z%.3f_plot' %(y)\n",
    "            if not os.path.exists(plot_dir):\n",
    "                os.makedirs(plot_dir)\n",
    "\n",
    "\n",
    "        for dats in data:\n",
    "            datas = getplotdata(dats, xykeys, datakeys)\n",
    "\n",
    "            if method == 'fastlinear':\n",
    "                interpolators = [LinearNDInterpolator(tri, dat) for dat in datas]\n",
    "                grid_z0 = np.asarray([interpolator(inter_coord) for interpolator in interpolators])\n",
    "            elif method == 'fastcubic':\n",
    "                interpolators = [CloughTocher2DInterpolator(tri, dat) for dat in datas]\n",
    "                grid_z0 = np.asarray([interpolator(inter_coord) for interpolator in interpolators])\n",
    "            else:\n",
    "                grid_z0 = np.asarray([griddata(inbetween, dat, inter_coord, method = method) for dat in datas])\n",
    "            \n",
    "            if remove_m0:\n",
    "                grid_z0 -= np.mean(grid_z0, axis=0)\n",
    "\n",
    "            if saveplots:\n",
    "                plotnsave(grid_z0, s_mesh, phi_mesh, mydir, y)\n",
    "\n",
    "            if getData:\n",
    "                zdata.append(grid_z0)\n",
    "                \n",
    "            counter += 1\n",
    "            \n",
    "    if getData:\n",
    "        return zdata"
   ]
  },
  {
   "cell_type": "code",
   "execution_count": 38,
   "metadata": {},
   "outputs": [],
   "source": [
    "mydir = \"data_Ek5e-6Ra300_L191N63_init5max10e-7-u\"\n",
    "r_inner = 7/13.\n",
    "r_outer = 20./13.\n",
    "zs = np.linspace(-r_outer, r_outer, 66)[1:-1]\n",
    "#zs = np.geomspace((r_outer+1)**2,1, 31)**(1/2)-1 not complete thought\n",
    "plotvar = 'u'\n",
    "remove_m0 = False\n",
    "saveplots = False\n",
    "getData = True\n",
    "cutheadtail = True\n",
    "method = 'fastlinear'\n",
    "#vmin = -300 \n",
    "#vmax = 300\n",
    "alldata =[]\n",
    "for z in zs:\n",
    "    alldata.append(makeplots(mydir, r_inner, r_outer, z))"
   ]
  },
  {
   "cell_type": "code",
   "execution_count": 29,
   "metadata": {},
   "outputs": [],
   "source": [
    "mydir = \"data_Ek5e-6Ra300_L191N63_init5max10e-7-u\"\n",
    "r_inner = 7/13.\n",
    "r_outer = 20./13.\n",
    "zs = np.linspace(-r_outer, r_outer, 66)[1:-1]\n",
    "#zs = np.geomspace((r_outer+1)**2,1, 31)**(1/2)-1 not complete thought\n",
    "plotvar = 'u'\n",
    "remove_m0 = False\n",
    "saveplots = False\n",
    "getData = True\n",
    "cutheadtail = True\n",
    "method = 'fastlinear'\n",
    "#vmin = -300 \n",
    "#vmax = 300\n",
    "alldata = []\n",
    "for z in zs:\n",
    "    alldata.append(makeplots(mydir, r_inner, r_outer, z))"
   ]
  },
  {
   "cell_type": "code",
   "execution_count": 9,
   "metadata": {},
   "outputs": [],
   "source": [
    "alldata = [np.array(data) for data in alldata]"
   ]
  },
  {
   "cell_type": "code",
   "execution_count": 39,
   "metadata": {},
   "outputs": [
    {
     "data": {
      "text/plain": [
       "[(340, 384, 64)]"
      ]
     },
     "execution_count": 39,
     "metadata": {},
     "output_type": "execute_result"
    }
   ],
   "source": [
    "[np.array(data).shape for data in alldata]"
   ]
  },
  {
   "cell_type": "code",
   "execution_count": 45,
   "metadata": {},
   "outputs": [
    {
     "data": {
      "text/plain": [
       "(340, 384, 64)"
      ]
     },
     "execution_count": 45,
     "metadata": {},
     "output_type": "execute_result"
    }
   ],
   "source": [
    "np.array(alldata[0]).shape"
   ]
  },
  {
   "cell_type": "code",
   "execution_count": 28,
   "metadata": {},
   "outputs": [
    {
     "data": {
      "text/plain": [
       "array([1.53846154, 1.46084863, 1.38560873, 1.31266927, 1.24195991,\n",
       "       1.17341248, 1.10696087, 1.042541  , 0.98009076, 0.91954992,\n",
       "       0.8608601 , 0.80396472, 0.74880889, 0.69533944, 0.64350481,\n",
       "       0.59325501, 0.54454159, 0.49731757, 0.45153742, 0.40715698,\n",
       "       0.36413346, 0.32242538, 0.28199252, 0.24279588, 0.20479767,\n",
       "       0.16796124, 0.13225108, 0.09763276, 0.06407288, 0.03153908,\n",
       "       0.        ])"
      ]
     },
     "execution_count": 28,
     "metadata": {},
     "output_type": "execute_result"
    }
   ],
   "source": [
    "test"
   ]
  },
  {
   "cell_type": "code",
   "execution_count": 24,
   "metadata": {},
   "outputs": [
    {
     "data": {
      "text/plain": [
       "0.031539080772679196"
      ]
     },
     "execution_count": 24,
     "metadata": {},
     "output_type": "execute_result"
    }
   ],
   "source": [
    "test[1]-test[0]"
   ]
  },
  {
   "cell_type": "code",
   "execution_count": 69,
   "metadata": {},
   "outputs": [
    {
     "name": "stdout",
     "output_type": "stream",
     "text": [
      "CPU times: user 1min 25s, sys: 13.6 s, total: 1min 38s\n",
      "Wall time: 1min 38s\n"
     ]
    }
   ],
   "source": [
    "mydir = \"data_Ek5e-6Ra300_L191N63_init5max10e-7-u\"\n",
    "r_inner = 7/13.\n",
    "r_outer = 20./13.\n",
    "#z = r_inner + factor*(r_outer-r_inner)\n",
    "z = 0\n",
    "plotvar = 'T'\n",
    "remove_m0 = False\n",
    "saveplots = False\n",
    "getData = True\n",
    "cutheadtail = True\n",
    "alldata = []\n",
    "vmin = -0.1\n",
    "vmax = 0.1\n",
    "method = 'fastlinear'\n",
    "%time makeplots(mydir, r_inner, r_outer, z)"
   ]
  },
  {
   "cell_type": "code",
   "execution_count": 63,
   "metadata": {},
   "outputs": [
    {
     "name": "stdout",
     "output_type": "stream",
     "text": [
      "CPU times: user 2min 46s, sys: 15.8 s, total: 3min 2s\n",
      "Wall time: 3min 1s\n"
     ]
    }
   ],
   "source": [
    "mydir = \"data_Ek5e-6Ra300_L191N63_init5max10e-7-u\"\n",
    "r_inner = 7/13.\n",
    "r_outer = 20./13.\n",
    "#z = r_inner + factor*(r_outer-r_inner)\n",
    "z = 0\n",
    "plotvar = 'T'\n",
    "remove_m0 = False\n",
    "saveplots = False\n",
    "getData = True\n",
    "cutheadtail = True\n",
    "alldata = []\n",
    "vmin = 0\n",
    "vmax = 1\n",
    "method = 'fastlinear'\n",
    "%time makeplots(mydir, r_inner, r_outer, z)"
   ]
  },
  {
   "cell_type": "code",
   "execution_count": 36,
   "metadata": {
    "scrolled": false
   },
   "outputs": [
    {
     "data": {
      "text/plain": [
       "['data_Ek5e-6Ra300_L191N63_init5max10e-7-u/data_Ek5e-6Ra300_L191N63_init5max10e-7-u_s6.h5',\n",
       " 'data_Ek5e-6Ra300_L191N63_init5max10e-7-u/data_Ek5e-6Ra300_L191N63_init5max10e-7-u_s7.h5',\n",
       " 'data_Ek5e-6Ra300_L191N63_init5max10e-7-u/data_Ek5e-6Ra300_L191N63_init5max10e-7-u_s8.h5',\n",
       " 'data_Ek5e-6Ra300_L191N63_init5max10e-7-u/data_Ek5e-6Ra300_L191N63_init5max10e-7-u_s9.h5',\n",
       " 'data_Ek5e-6Ra300_L191N63_init5max10e-7-u/data_Ek5e-6Ra300_L191N63_init5max10e-7-u_s10.h5',\n",
       " 'data_Ek5e-6Ra300_L191N63_init5max10e-7-u/data_Ek5e-6Ra300_L191N63_init5max10e-7-u_s11.h5',\n",
       " 'data_Ek5e-6Ra300_L191N63_init5max10e-7-u/data_Ek5e-6Ra300_L191N63_init5max10e-7-u_s12.h5',\n",
       " 'data_Ek5e-6Ra300_L191N63_init5max10e-7-u/data_Ek5e-6Ra300_L191N63_init5max10e-7-u_s13.h5',\n",
       " 'data_Ek5e-6Ra300_L191N63_init5max10e-7-u/data_Ek5e-6Ra300_L191N63_init5max10e-7-u_s14.h5',\n",
       " 'data_Ek5e-6Ra300_L191N63_init5max10e-7-u/data_Ek5e-6Ra300_L191N63_init5max10e-7-u_s15.h5',\n",
       " 'data_Ek5e-6Ra300_L191N63_init5max10e-7-u/data_Ek5e-6Ra300_L191N63_init5max10e-7-u_s16.h5',\n",
       " 'data_Ek5e-6Ra300_L191N63_init5max10e-7-u/data_Ek5e-6Ra300_L191N63_init5max10e-7-u_s17.h5',\n",
       " 'data_Ek5e-6Ra300_L191N63_init5max10e-7-u/data_Ek5e-6Ra300_L191N63_init5max10e-7-u_s18.h5',\n",
       " 'data_Ek5e-6Ra300_L191N63_init5max10e-7-u/data_Ek5e-6Ra300_L191N63_init5max10e-7-u_s19.h5',\n",
       " 'data_Ek5e-6Ra300_L191N63_init5max10e-7-u/data_Ek5e-6Ra300_L191N63_init5max10e-7-u_s20.h5',\n",
       " 'data_Ek5e-6Ra300_L191N63_init5max10e-7-u/data_Ek5e-6Ra300_L191N63_init5max10e-7-u_s21.h5',\n",
       " 'data_Ek5e-6Ra300_L191N63_init5max10e-7-u/data_Ek5e-6Ra300_L191N63_init5max10e-7-u_s22.h5',\n",
       " 'data_Ek5e-6Ra300_L191N63_init5max10e-7-u/data_Ek5e-6Ra300_L191N63_init5max10e-7-u_s23.h5',\n",
       " 'data_Ek5e-6Ra300_L191N63_init5max10e-7-u/data_Ek5e-6Ra300_L191N63_init5max10e-7-u_s24.h5',\n",
       " 'data_Ek5e-6Ra300_L191N63_init5max10e-7-u/data_Ek5e-6Ra300_L191N63_init5max10e-7-u_s25.h5',\n",
       " 'data_Ek5e-6Ra300_L191N63_init5max10e-7-u/data_Ek5e-6Ra300_L191N63_init5max10e-7-u_s26.h5',\n",
       " 'data_Ek5e-6Ra300_L191N63_init5max10e-7-u/data_Ek5e-6Ra300_L191N63_init5max10e-7-u_s27.h5',\n",
       " 'data_Ek5e-6Ra300_L191N63_init5max10e-7-u/data_Ek5e-6Ra300_L191N63_init5max10e-7-u_s28.h5',\n",
       " 'data_Ek5e-6Ra300_L191N63_init5max10e-7-u/data_Ek5e-6Ra300_L191N63_init5max10e-7-u_s29.h5',\n",
       " 'data_Ek5e-6Ra300_L191N63_init5max10e-7-u/data_Ek5e-6Ra300_L191N63_init5max10e-7-u_s30.h5',\n",
       " 'data_Ek5e-6Ra300_L191N63_init5max10e-7-u/data_Ek5e-6Ra300_L191N63_init5max10e-7-u_s31.h5',\n",
       " 'data_Ek5e-6Ra300_L191N63_init5max10e-7-u/data_Ek5e-6Ra300_L191N63_init5max10e-7-u_s32.h5',\n",
       " 'data_Ek5e-6Ra300_L191N63_init5max10e-7-u/data_Ek5e-6Ra300_L191N63_init5max10e-7-u_s33.h5',\n",
       " 'data_Ek5e-6Ra300_L191N63_init5max10e-7-u/data_Ek5e-6Ra300_L191N63_init5max10e-7-u_s34.h5',\n",
       " 'data_Ek5e-6Ra300_L191N63_init5max10e-7-u/data_Ek5e-6Ra300_L191N63_init5max10e-7-u_s35.h5',\n",
       " 'data_Ek5e-6Ra300_L191N63_init5max10e-7-u/data_Ek5e-6Ra300_L191N63_init5max10e-7-u_s36.h5',\n",
       " 'data_Ek5e-6Ra300_L191N63_init5max10e-7-u/data_Ek5e-6Ra300_L191N63_init5max10e-7-u_s37.h5',\n",
       " 'data_Ek5e-6Ra300_L191N63_init5max10e-7-u/data_Ek5e-6Ra300_L191N63_init5max10e-7-u_s38.h5',\n",
       " 'data_Ek5e-6Ra300_L191N63_init5max10e-7-u/data_Ek5e-6Ra300_L191N63_init5max10e-7-u_s39.h5']"
      ]
     },
     "execution_count": 36,
     "metadata": {},
     "output_type": "execute_result"
    }
   ],
   "source": [
    "files"
   ]
  },
  {
   "cell_type": "code",
   "execution_count": null,
   "metadata": {},
   "outputs": [],
   "source": []
  }
 ],
 "metadata": {
  "kernelspec": {
   "display_name": "Python 3",
   "language": "python",
   "name": "python3"
  },
  "language_info": {
   "codemirror_mode": {
    "name": "ipython",
    "version": 3
   },
   "file_extension": ".py",
   "mimetype": "text/x-python",
   "name": "python",
   "nbconvert_exporter": "python",
   "pygments_lexer": "ipython3",
   "version": "3.8.5"
  }
 },
 "nbformat": 4,
 "nbformat_minor": 4
}
