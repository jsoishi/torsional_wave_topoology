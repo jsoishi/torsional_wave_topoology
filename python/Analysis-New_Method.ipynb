{
 "cells": [
  {
   "cell_type": "code",
   "execution_count": 1,
   "metadata": {},
   "outputs": [],
   "source": [
    "import matplotlib\n",
    "import matplotlib.pyplot as plt\n",
    "import numpy as np\n",
    "import h5py\n",
    "import os\n",
    "import re\n",
    "from scipy.interpolate import griddata\n",
    "#from dedalus import public as de"
   ]
  },
  {
   "cell_type": "code",
   "execution_count": 2,
   "metadata": {},
   "outputs": [],
   "source": [
    "def getproj(z, r_inner, r_outer):    \n",
    "    if z < r_inner: \n",
    "        start_point = np.sqrt(r_inner**2 - z**2)\n",
    "    else:\n",
    "        start_point = 0\n",
    "    end_point = np.sqrt(r_outer**2 - z**2)\n",
    "    gridpoints = int(rscale.shape[0]/(r_outer-r_inner) * (end_point-start_point))\n",
    "    \n",
    "    #finding equidistant point with the same density as the original grid along the path of interpolation\n",
    "    z_desired = np.asarray(np.linspace( start_point, end_point, num = gridpoints, endpoint = False))\n",
    "    y_coord = np.asarray([z for i in z_desired])\n",
    "    inter_coord = np.asarray([z_desired, y_coord]).T\n",
    "    \n",
    "    #padding and mesh\n",
    "    phi_pad = np.append(phiscale[:], 2*np.pi)\n",
    "    s_pad   = np.append(z_desired[:], end_point)\n",
    "    s_mesh, phi_mesh = np.meshgrid(s_pad, phi_pad)\n",
    "    \n",
    "    return inter_coord, s_mesh, phi_mesh"
   ]
  },
  {
   "cell_type": "code",
   "execution_count": 3,
   "metadata": {},
   "outputs": [],
   "source": [
    "def getplotdata(data, xykeys, datakeys):\n",
    "    # this function creates a dictionary so I can find points more relevant with their coordinates\n",
    "    datapoints = np.asarray([dat.ravel() for dat in data])\n",
    "#    datadic = [dict(zip(xykeys, datpts)) for datpts in datapoints]\n",
    "    datadic = dict(zip(xykeys, datapoints.T))\n",
    "#    datas = np.asarray([[dic[key] for key in datakeys] for dic in datadic])\n",
    "    datas = np.asarray([datadic[key] for key in datakeys]).T\n",
    "    return datas"
   ]
  },
  {
   "cell_type": "code",
   "execution_count": 4,
   "metadata": {
    "scrolled": true
   },
   "outputs": [],
   "source": [
    "def plotnsave(val, s_mesh, phi_mesh, mydir, y):\n",
    "    fig, ax = plt.subplots(subplot_kw=dict(polar=True))\n",
    "    pcm = ax.pcolormesh(phi_mesh, s_mesh, val, cmap='RdYlBu_r')\n",
    "    plt.colorbar(pcm)\n",
    "    plt.savefig(mydir  + '/z%.3f_plot/%s_%04i.png' %(y ,\"plot\".format(0), counter), dpi=150)\n",
    "    plt.close(fig)"
   ]
  },
  {
   "cell_type": "code",
   "execution_count": 5,
   "metadata": {},
   "outputs": [],
   "source": [
    "#    if data.ndim == 5: np.linalg.norm(data, axis=4)\n",
    "def makeplots(mydir, r_inner, r_outer, y):\n",
    "    files = []\n",
    "    \n",
    "    #maybe not the best way, but I got lazy, and didn't want to not wrap everything in a function\n",
    "    global data, rscale, thetascale, phiscale, counter    \n",
    "    \n",
    "    for file in os.listdir(mydir):\n",
    "        if file.endswith(\".h5\"):\n",
    "            files.append(os.path.join(mydir, file))\n",
    "    files.sort(key=lambda f: int(re.sub('\\D','', f)))\n",
    "\n",
    "    counter = 0\n",
    "    \n",
    "    for file in files:\n",
    "        df = h5py.File(file,\"r\")\n",
    "        temp = df['tasks']['T']\n",
    "        data = np.array(temp)\n",
    "\n",
    "        if counter == 0:\n",
    "            rscale = temp.dims[3][0][:]\n",
    "            thetascale = temp.dims[2][0][:]\n",
    "            phiscale = temp.dims[1][0][:]\n",
    "\n",
    "            inter_coord, s_mesh, phi_mesh = getproj(y, r_inner, r_outer)\n",
    "\n",
    "            xygrid = np.asarray([[r*np.sin(theta), r*np.cos(theta)] for theta in thetascale for r in rscale])\n",
    "            inbetween = np.asarray([xy for xy in xygrid if (y - 1/26) <= xy[1] <= (y + 1/26)])\n",
    "            # inbetween contains the relevent points. the smaller the set the faster the plot\n",
    "            \n",
    "            \n",
    "            xykeys = list(map(str,xygrid))\n",
    "            datakeys = list(map(str, inbetween))\n",
    "            \n",
    "            plot_dir = mydir + '/z%.3f_plot' %(y)\n",
    "            if not os.path.exists(plot_dir):\n",
    "                os.makedirs(plot_dir)\n",
    "\n",
    "\n",
    "        for dats in data:\n",
    "            datas = getplotdata(dats, xykeys, datakeys)\n",
    "\n",
    "            grid_z0 = np.asarray([griddata(inbetween, dat, inter_coord, method='cubic') for dat in datas])\n",
    "            grid_z0 -= np.mean(grid_z0, axis=0)\n",
    "\n",
    "            plotnsave(grid_z0, s_mesh, phi_mesh, mydir, y)\n",
    "\n",
    "            counter += 1   "
   ]
  },
  {
   "cell_type": "code",
   "execution_count": null,
   "metadata": {},
   "outputs": [],
   "source": [
    "mydir = \"data_Ek1e-6Ra300_L127N63_max2e-7\"\n",
    "r_inner = 7/13.\n",
    "r_outer = 20./13.\n",
    "z = 0.5*(r_outer-r_inner)+r_inner\n",
    "makeplots(mydir, r_inner, r_outer, z)"
   ]
  }
 ],
 "metadata": {
  "kernelspec": {
   "display_name": "Python 3",
   "language": "python",
   "name": "python3"
  },
  "language_info": {
   "codemirror_mode": {
    "name": "ipython",
    "version": 3
   },
   "file_extension": ".py",
   "mimetype": "text/x-python",
   "name": "python",
   "nbconvert_exporter": "python",
   "pygments_lexer": "ipython3",
   "version": "3.8.5"
  }
 },
 "nbformat": 4,
 "nbformat_minor": 4
}
