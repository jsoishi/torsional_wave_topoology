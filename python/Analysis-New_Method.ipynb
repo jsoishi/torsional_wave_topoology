{
 "cells": [
  {
   "cell_type": "code",
   "execution_count": 1,
   "metadata": {},
   "outputs": [],
   "source": [
    "import matplotlib\n",
    "import matplotlib.pyplot as plt\n",
    "import numpy as np\n",
    "import h5py\n",
    "import os\n",
    "import re\n",
    "from scipy.interpolate import griddata\n",
    "#from dedalus import public as de"
   ]
  },
  {
   "cell_type": "code",
   "execution_count": 2,
   "metadata": {},
   "outputs": [],
   "source": [
    "def getproj(z, r_inner, r_outer):    \n",
    "    if z < r_inner: \n",
    "        start_point = z*np.tan(np.arccos(z/r_inner)) \n",
    "    else:\n",
    "        start_point = 0\n",
    "    end_point = z*np.tan(np.arccos(z/r_outer))\n",
    "    gridpoints = int(rscale.shape[0]/(r_outer-r_inner) * (end_point-start_point))\n",
    "    \n",
    "    z_desired = np.asarray(np.linspace( start_point, end_point, num = gridpoints, endpoint = False))\n",
    "    y_coord = np.asarray([z for i in z_desired])\n",
    "    inter_coord = np.asarray([z_desired, y_coord]).T\n",
    "    \n",
    "    phi_pad = np.append(phiscale[:], 2*np.pi)\n",
    "    s_pad   = np.append(z_desired[:], end_point)\n",
    "    s_mesh, phi_mesh = np.meshgrid(s_pad, phi_pad)\n",
    "    \n",
    "    return inter_coord, s_mesh, phi_mesh"
   ]
  },
  {
   "cell_type": "code",
   "execution_count": 7,
   "metadata": {},
   "outputs": [],
   "source": [
    "def getplotdata(data, xykeys, datakeys):\n",
    "    datapoints = np.asarray([dat.ravel() for dat in data])\n",
    "#    datadic = [dict(zip(xykeys, datpts)) for datpts in datapoints]\n",
    "    datadic = dict(zip(xykeys, datapoints.T))\n",
    "#    datas = np.asarray([[dic[key] for key in datakeys] for dic in datadic])\n",
    "    datas = np.asarray([datadic[key] for key in datakeys]).T\n",
    "    return datas"
   ]
  },
  {
   "cell_type": "code",
   "execution_count": 4,
   "metadata": {
    "scrolled": true
   },
   "outputs": [],
   "source": [
    "def plotnsave(val, s_mesh, phi_mesh):\n",
    "    fig, ax = plt.subplots(subplot_kw=dict(polar=True))\n",
    "    pcm = ax.pcolormesh(phi_mesh, s_mesh, val, cmap='RdYlBu_r')\n",
    "    plt.colorbar(pcm)\n",
    "    plt.savefig(str(mydir)+'/%s_%04i.png' %(\"new2_plot\".format(0), counter), dpi=150)\n",
    "    plt.close(fig)"
   ]
  },
  {
   "cell_type": "code",
   "execution_count": 5,
   "metadata": {},
   "outputs": [],
   "source": [
    "files = []\n",
    "mydir = \"data_Ek1e-6Ra300_L127N63_max2e-7\"\n",
    "for file in os.listdir(mydir):\n",
    "    if file.endswith(\".h5\"):\n",
    "        files.append(os.path.join(mydir, file))\n",
    "files.sort(key=lambda f: int(re.sub('\\D','', f)))\n",
    "\n",
    "r_inner = 7/13.\n",
    "r_outer = 20./13."
   ]
  },
  {
   "cell_type": "code",
   "execution_count": 8,
   "metadata": {
    "collapsed": true
   },
   "outputs": [
    {
     "ename": "KeyboardInterrupt",
     "evalue": "",
     "output_type": "error",
     "traceback": [
      "\u001b[0;31m---------------------------------------------------------------------------\u001b[0m",
      "\u001b[0;31mKeyboardInterrupt\u001b[0m                         Traceback (most recent call last)",
      "\u001b[0;32m<ipython-input-8-64ab8892e5ba>\u001b[0m in \u001b[0;36m<module>\u001b[0;34m\u001b[0m\n\u001b[1;32m     25\u001b[0m         \u001b[0mdatas\u001b[0m \u001b[0;34m=\u001b[0m \u001b[0mgetplotdata\u001b[0m\u001b[0;34m(\u001b[0m\u001b[0mdats\u001b[0m\u001b[0;34m,\u001b[0m \u001b[0mxykeys\u001b[0m\u001b[0;34m,\u001b[0m \u001b[0mdatakeys\u001b[0m\u001b[0;34m)\u001b[0m\u001b[0;34m\u001b[0m\u001b[0;34m\u001b[0m\u001b[0m\n\u001b[1;32m     26\u001b[0m \u001b[0;34m\u001b[0m\u001b[0m\n\u001b[0;32m---> 27\u001b[0;31m         \u001b[0mgrid_z0\u001b[0m \u001b[0;34m=\u001b[0m \u001b[0mnp\u001b[0m\u001b[0;34m.\u001b[0m\u001b[0masarray\u001b[0m\u001b[0;34m(\u001b[0m\u001b[0;34m[\u001b[0m\u001b[0mgriddata\u001b[0m\u001b[0;34m(\u001b[0m\u001b[0minbetween\u001b[0m\u001b[0;34m,\u001b[0m \u001b[0mdat\u001b[0m\u001b[0;34m,\u001b[0m \u001b[0minter_coord\u001b[0m\u001b[0;34m,\u001b[0m \u001b[0mmethod\u001b[0m\u001b[0;34m=\u001b[0m\u001b[0;34m'cubic'\u001b[0m\u001b[0;34m)\u001b[0m \u001b[0;32mfor\u001b[0m \u001b[0mdat\u001b[0m \u001b[0;32min\u001b[0m \u001b[0mdatas\u001b[0m\u001b[0;34m]\u001b[0m\u001b[0;34m)\u001b[0m\u001b[0;34m\u001b[0m\u001b[0;34m\u001b[0m\u001b[0m\n\u001b[0m\u001b[1;32m     28\u001b[0m \u001b[0;34m\u001b[0m\u001b[0m\n\u001b[1;32m     29\u001b[0m         \u001b[0mplotnsave\u001b[0m\u001b[0;34m(\u001b[0m\u001b[0mgrid_z0\u001b[0m\u001b[0;34m,\u001b[0m \u001b[0ms_mesh\u001b[0m\u001b[0;34m,\u001b[0m \u001b[0mphi_mesh\u001b[0m\u001b[0;34m)\u001b[0m\u001b[0;34m\u001b[0m\u001b[0;34m\u001b[0m\u001b[0m\n",
      "\u001b[0;32m<ipython-input-8-64ab8892e5ba>\u001b[0m in \u001b[0;36m<listcomp>\u001b[0;34m(.0)\u001b[0m\n\u001b[1;32m     25\u001b[0m         \u001b[0mdatas\u001b[0m \u001b[0;34m=\u001b[0m \u001b[0mgetplotdata\u001b[0m\u001b[0;34m(\u001b[0m\u001b[0mdats\u001b[0m\u001b[0;34m,\u001b[0m \u001b[0mxykeys\u001b[0m\u001b[0;34m,\u001b[0m \u001b[0mdatakeys\u001b[0m\u001b[0;34m)\u001b[0m\u001b[0;34m\u001b[0m\u001b[0;34m\u001b[0m\u001b[0m\n\u001b[1;32m     26\u001b[0m \u001b[0;34m\u001b[0m\u001b[0m\n\u001b[0;32m---> 27\u001b[0;31m         \u001b[0mgrid_z0\u001b[0m \u001b[0;34m=\u001b[0m \u001b[0mnp\u001b[0m\u001b[0;34m.\u001b[0m\u001b[0masarray\u001b[0m\u001b[0;34m(\u001b[0m\u001b[0;34m[\u001b[0m\u001b[0mgriddata\u001b[0m\u001b[0;34m(\u001b[0m\u001b[0minbetween\u001b[0m\u001b[0;34m,\u001b[0m \u001b[0mdat\u001b[0m\u001b[0;34m,\u001b[0m \u001b[0minter_coord\u001b[0m\u001b[0;34m,\u001b[0m \u001b[0mmethod\u001b[0m\u001b[0;34m=\u001b[0m\u001b[0;34m'cubic'\u001b[0m\u001b[0;34m)\u001b[0m \u001b[0;32mfor\u001b[0m \u001b[0mdat\u001b[0m \u001b[0;32min\u001b[0m \u001b[0mdatas\u001b[0m\u001b[0;34m]\u001b[0m\u001b[0;34m)\u001b[0m\u001b[0;34m\u001b[0m\u001b[0;34m\u001b[0m\u001b[0m\n\u001b[0m\u001b[1;32m     28\u001b[0m \u001b[0;34m\u001b[0m\u001b[0m\n\u001b[1;32m     29\u001b[0m         \u001b[0mplotnsave\u001b[0m\u001b[0;34m(\u001b[0m\u001b[0mgrid_z0\u001b[0m\u001b[0;34m,\u001b[0m \u001b[0ms_mesh\u001b[0m\u001b[0;34m,\u001b[0m \u001b[0mphi_mesh\u001b[0m\u001b[0;34m)\u001b[0m\u001b[0;34m\u001b[0m\u001b[0;34m\u001b[0m\u001b[0m\n",
      "\u001b[0;32m~/miniconda3/envs/dedalus-d3-intelmpi/lib/python3.8/site-packages/scipy/interpolate/ndgriddata.py\u001b[0m in \u001b[0;36mgriddata\u001b[0;34m(points, values, xi, method, fill_value, rescale)\u001b[0m\n\u001b[1;32m    222\u001b[0m         ip = CloughTocher2DInterpolator(points, values, fill_value=fill_value,\n\u001b[1;32m    223\u001b[0m                                         rescale=rescale)\n\u001b[0;32m--> 224\u001b[0;31m         \u001b[0;32mreturn\u001b[0m \u001b[0mip\u001b[0m\u001b[0;34m(\u001b[0m\u001b[0mxi\u001b[0m\u001b[0;34m)\u001b[0m\u001b[0;34m\u001b[0m\u001b[0;34m\u001b[0m\u001b[0m\n\u001b[0m\u001b[1;32m    225\u001b[0m     \u001b[0;32melse\u001b[0m\u001b[0;34m:\u001b[0m\u001b[0;34m\u001b[0m\u001b[0;34m\u001b[0m\u001b[0m\n\u001b[1;32m    226\u001b[0m         raise ValueError(\"Unknown interpolation method %r for \"\n",
      "\u001b[0;32minterpnd.pyx\u001b[0m in \u001b[0;36mscipy.interpolate.interpnd.NDInterpolatorBase.__call__\u001b[0;34m()\u001b[0m\n",
      "\u001b[0;32m~/miniconda3/envs/dedalus-d3-intelmpi/lib/python3.8/site-packages/numpy/core/_asarray.py\u001b[0m in \u001b[0;36masarray\u001b[0;34m(a, dtype, order)\u001b[0m\n\u001b[1;32m     12\u001b[0m ]\n\u001b[1;32m     13\u001b[0m \u001b[0;34m\u001b[0m\u001b[0m\n\u001b[0;32m---> 14\u001b[0;31m \u001b[0;34m@\u001b[0m\u001b[0mset_module\u001b[0m\u001b[0;34m(\u001b[0m\u001b[0;34m'numpy'\u001b[0m\u001b[0;34m)\u001b[0m\u001b[0;34m\u001b[0m\u001b[0;34m\u001b[0m\u001b[0m\n\u001b[0m\u001b[1;32m     15\u001b[0m \u001b[0;32mdef\u001b[0m \u001b[0masarray\u001b[0m\u001b[0;34m(\u001b[0m\u001b[0ma\u001b[0m\u001b[0;34m,\u001b[0m \u001b[0mdtype\u001b[0m\u001b[0;34m=\u001b[0m\u001b[0;32mNone\u001b[0m\u001b[0;34m,\u001b[0m \u001b[0morder\u001b[0m\u001b[0;34m=\u001b[0m\u001b[0;32mNone\u001b[0m\u001b[0;34m)\u001b[0m\u001b[0;34m:\u001b[0m\u001b[0;34m\u001b[0m\u001b[0;34m\u001b[0m\u001b[0m\n\u001b[1;32m     16\u001b[0m     \"\"\"Convert the input to an array.\n",
      "\u001b[0;31mKeyboardInterrupt\u001b[0m: "
     ]
    }
   ],
   "source": [
    "#    if data.ndim == 5: np.linalg.norm(data, axis=4)\n",
    "\n",
    "counter = 0\n",
    "z = 0.1*(r_outer-r_inner)+r_inner\n",
    "for file in files:\n",
    "    df = h5py.File(file,\"r\")\n",
    "    temp = df['tasks']['T']\n",
    "    data = np.array(temp)\n",
    "    \n",
    "    if counter == 0:\n",
    "        rscale = temp.dims[3][0][:]\n",
    "        thetascale = temp.dims[2][0][:]\n",
    "        phiscale = temp.dims[1][0][:]\n",
    "    \n",
    "        inter_coord, s_mesh, phi_mesh = getproj(z, r_inner, r_outer)\n",
    "    \n",
    "        xygrid = np.asarray([[r*np.sin(theta), r*np.cos(theta)] for r in rscale for theta in thetascale])\n",
    "        inbetween = np.asarray([xy for xy in xygrid if (z - 1/20) <= xy[1] <= (z + 1/20)])\n",
    "    \n",
    "        xykeys = list(map(str,xygrid))\n",
    "        datakeys = list(map(str, inbetween))    \n",
    "    \n",
    "    \n",
    "    for dats in data:\n",
    "        datas = getplotdata(dats, xykeys, datakeys)\n",
    "\n",
    "        grid_z0 = np.asarray([griddata(inbetween, dat, inter_coord, method='cubic') for dat in datas])\n",
    "\n",
    "        plotnsave(grid_z0, s_mesh, phi_mesh)\n",
    "        \n",
    "        counter += 1   "
   ]
  },
  {
   "cell_type": "code",
   "execution_count": null,
   "metadata": {},
   "outputs": [],
   "source": []
  }
 ],
 "metadata": {
  "kernelspec": {
   "display_name": "Python 3",
   "language": "python",
   "name": "python3"
  },
  "language_info": {
   "codemirror_mode": {
    "name": "ipython",
    "version": 3
   },
   "file_extension": ".py",
   "mimetype": "text/x-python",
   "name": "python",
   "nbconvert_exporter": "python",
   "pygments_lexer": "ipython3",
   "version": "3.8.5"
  }
 },
 "nbformat": 4,
 "nbformat_minor": 4
}
