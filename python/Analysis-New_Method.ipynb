{
 "cells": [
  {
   "cell_type": "code",
   "execution_count": 1,
   "metadata": {},
   "outputs": [],
   "source": [
    "import matplotlib\n",
    "import matplotlib.pyplot as plt\n",
    "import numpy as np\n",
    "import h5py\n",
    "import os\n",
    "import re\n",
    "from scipy.interpolate import griddata\n",
    "from scipy.spatial import Delaunay\n",
    "from scipy.interpolate import LinearNDInterpolator\n",
    "from scipy.interpolate import CloughTocher2DInterpolator\n",
    "import scipy.spatial.qhull as qhull\n",
    "import itertools\n",
    "#from dedalus import public as de"
   ]
  },
  {
   "cell_type": "code",
   "execution_count": 2,
   "metadata": {},
   "outputs": [],
   "source": [
    "def getproj(z, r_inner, r_outer):    \n",
    "    if np.abs(z) < r_inner: \n",
    "        start_point = np.sqrt(r_inner**2 - z**2)\n",
    "    else:\n",
    "        start_point = 0\n",
    "    end_point = np.sqrt(r_outer**2 - z**2)\n",
    "    gridpoints = int(rscale.shape[0]/(r_outer-r_inner) * (end_point-start_point))\n",
    "    \n",
    "    #finding equidistant point with the same density as the original grid along the path of interpolation\n",
    "    z_desired = np.asarray(np.linspace( start_point, end_point, num = gridpoints, endpoint = False))\n",
    "    y_coord = np.asarray([z for _ in z_desired])\n",
    "    inter_coord = np.asarray([z_desired, y_coord]).T\n",
    "    if average_z:\n",
    "        inter_coord = inter_coord[:,::-1]\n",
    "    #padding and mesh\n",
    "    phi_pad = np.append(phiscale[:], 2*np.pi)\n",
    "    s_pad   = np.append(z_desired[:], end_point)\n",
    "    s_mesh, phi_mesh = np.meshgrid(s_pad, phi_pad)\n",
    "    \n",
    "    return inter_coord, s_mesh, phi_mesh"
   ]
  },
  {
   "cell_type": "code",
   "execution_count": 36,
   "metadata": {
    "scrolled": true
   },
   "outputs": [],
   "source": [
    "def plotnsave(val, s_mesh, phi_mesh, mydir, y):\n",
    "    fig, ax = plt.subplots(subplot_kw=dict(polar=True))\n",
    "    pcm = ax.pcolormesh(phi_mesh, s_mesh, val, cmap='RdYlBu_r',vmin = vmin, vmax = vmax)\n",
    "    ax.set_xticks([])\n",
    "    ax.set_axis_off()\n",
    "    ax.set_rlim([0, r_outer])\n",
    "    cbar_ax = fig.add_axes([0.8, 0.2, 0.02, 0.6])\n",
    "    cb = fig.colorbar(pcm, cax=cbar_ax)\n",
    "    #these three line draws the boundaries, because axis_off\n",
    "    ones = np.ones(300)\n",
    "    angles = np.linspace(0, 2*np.pi,300)\n",
    "    style = (0,(4,10))\n",
    "    if s_mesh[1,0]!= 0:\n",
    "        ax.fill_between(angles, s_mesh[1,0]*ones, y2 =s_mesh[1,0]*ones, fc='w')\n",
    "    ax.fill_between(angles, r_inner*ones, y2 =r_inner*ones, fc='none', ec = 'k', linestyle = style)\n",
    "    ax.fill_between(angles, s_mesh[1,-1]*ones, y2 =s_mesh[1,-1]*ones, fc='none', ec = 'k', linestyle = '-')\n",
    "    ax.fill_between(angles, r_outer*ones, y2 =r_outer*ones, fc='none', ec = 'k', linestyle = style, linewidth=2.0)\n",
    "    \n",
    "    cb.set_label(plotvar, rotation=0)\n",
    "\n",
    "    plt.savefig(mydir  + '/z%.3f_plot/%s_%04i' %(y ,\"plot\".format(0), counter) + '_' + plotvar + '.png', dpi=dpi, facecolor ='w')\n",
    "    plt.close(fig)"
   ]
  },
  {
   "cell_type": "code",
   "execution_count": 4,
   "metadata": {},
   "outputs": [],
   "source": [
    "#https://stackoverflow.com/questions/20915502/speedup-scipy-griddata-for-multiple-interpolations-between-two-irregular-grids\n",
    "def interp_weights(xyz, uvw, d=2):\n",
    "    #xyz is the spherical grid\n",
    "    #uvw is the desired interpolation grid\n",
    "    tri = qhull.Delaunay(xyz)\n",
    "    simplex = tri.find_simplex(uvw)\n",
    "    vertices = np.take(tri.simplices, simplex, axis=0)\n",
    "    temp = np.take(tri.transform, simplex, axis=0)\n",
    "    delta = uvw - temp[:, d]\n",
    "    bary = np.einsum('njk,nk->nj', temp[:, :d, :], delta)\n",
    "    return vertices, np.hstack((bary, 1 - bary.sum(axis=1, keepdims=True)))\n",
    "\n",
    "def interpolate(values, vtx, wts, fill_value=np.nan):\n",
    "    ret = np.einsum('nj,nj->n', np.take(values, vtx), wts)\n",
    "    ret[np.any(wts < 0, axis=1)] = fill_value\n",
    "    return ret"
   ]
  },
  {
   "cell_type": "code",
   "execution_count": 5,
   "metadata": {},
   "outputs": [],
   "source": [
    "def get_file_name(mydir):\n",
    "    files = []\n",
    "    for file in os.listdir(mydir):\n",
    "        if file.endswith(\".h5\"):\n",
    "            files.append(os.path.join(mydir, file))\n",
    "    files.sort(key=lambda f: int(re.sub('\\D','', f)))\n",
    "    \n",
    "    files = files[head:-2]\n",
    "    \n",
    "    return files"
   ]
  },
  {
   "cell_type": "code",
   "execution_count": 31,
   "metadata": {},
   "outputs": [],
   "source": [
    "#    if data.ndim == 5: np.linalg.norm(data, axis=4)\n",
    "#NEW!\n",
    "def new_makeplots(mydir, r_inner, r_outer, y):\n",
    "    #maybe not the best way, but I got lazy, and didn't want to not wrap everything in a function\n",
    "    global files, data, rscale, thetascale, phiscale, counter, s_mesh, phi_mesh, vtx, wts\n",
    "\n",
    "    files = get_file_name(mydir)\n",
    "    \n",
    "    counter = 0\n",
    "    zdata = []\n",
    "    \n",
    "    for file in files:\n",
    "        df = h5py.File(file,\"r\")\n",
    "        \n",
    "        dname = 'tasks/' + plotvar\n",
    "        dataset = df[dname]\n",
    "        data = np.array(dataset)\n",
    "        if data.ndim == 5:\n",
    "            data = data[:,0,:,:,:]\n",
    "        \n",
    "        if counter == 0:\n",
    "            \n",
    "            rscale = dataset.dims[3][0][:]\n",
    "            thetascale = dataset.dims[2][0][:]\n",
    "            phiscale = dataset.dims[1][0][:]\n",
    "\n",
    "            inter_coord, s_mesh, phi_mesh = getproj(y, r_inner, r_outer)\n",
    "\n",
    "            xygrid = np.asarray([[r*np.sin(theta), r*np.cos(theta)] for theta in thetascale for r in rscale])\n",
    "            \n",
    "            vtx, wts = interp_weights(xygrid, inter_coord)\n",
    "            \n",
    "            plot_dir = mydir + '/z%.3f_plot' %(y)\n",
    "            if not os.path.exists(plot_dir):\n",
    "                os.makedirs(plot_dir)\n",
    "        \n",
    "        for dats in data:\n",
    "            grid_z0 = np.asarray([interpolate(np.ravel(dat), vtx, wts) for dat in dats])\n",
    "            \n",
    "            if saveplots:\n",
    "                plotnsave(grid_z0, s_mesh, phi_mesh, mydir, y)\n",
    "                \n",
    "            if getData:\n",
    "                zdata.append(grid_z0)\n",
    "                \n",
    "            counter += 1\n",
    "            \n",
    "    if getData:\n",
    "        return zdata"
   ]
  },
  {
   "cell_type": "code",
   "execution_count": 13,
   "metadata": {},
   "outputs": [
    {
     "name": "stdout",
     "output_type": "stream",
     "text": [
      "CPU times: user 7min 15s, sys: 45.3 s, total: 8min\n",
      "Wall time: 7min 59s\n"
     ]
    }
   ],
   "source": [
    "mydir = \"data_Ek5e-6Ra300_L191N63_init5max10e-7-u\"\n",
    "r_inner = 7/13.\n",
    "r_outer = 20./13.\n",
    "plotvar = 'u'\n",
    "remove_m0 = False\n",
    "saveplots = True\n",
    "dpi = 300\n",
    "getData = False\n",
    "cutheadtail = False\n",
    "method = 'fastlinear'\n",
    "vmin = -250 \n",
    "vmax = 250\n",
    "z = r_inner\n",
    "%time makeplots(mydir, r_inner, r_outer, z)"
   ]
  },
  {
   "cell_type": "code",
   "execution_count": 37,
   "metadata": {
    "scrolled": true
   },
   "outputs": [
    {
     "name": "stdout",
     "output_type": "stream",
     "text": [
      "CPU times: user 5min 42s, sys: 1min 13s, total: 6min 55s\n",
      "Wall time: 6min 54s\n"
     ]
    }
   ],
   "source": [
    "mydir = \"data_Ek5e-6Ra300_L191N63_init5max10e-7-u\"\n",
    "r_inner = 7/13.\n",
    "r_outer = 20./13.\n",
    "plotvar = 'u'\n",
    "remove_m0 = False\n",
    "saveplots = True\n",
    "dpi = 300\n",
    "getData = True\n",
    "head = 5\n",
    "vmin = -250 \n",
    "vmax = 250\n",
    "z = r_inner\n",
    "average_z = False\n",
    "%time result2 = new_makeplots(mydir, r_inner, r_outer, z)"
   ]
  },
  {
   "cell_type": "code",
   "execution_count": 35,
   "metadata": {
    "scrolled": true
   },
   "outputs": [
    {
     "data": {
      "text/plain": [
       "(340, 384, 92)"
      ]
     },
     "execution_count": 35,
     "metadata": {},
     "output_type": "execute_result"
    }
   ],
   "source": [
    "result2=np.array(result2)\n",
    "result2.shape"
   ]
  },
  {
   "cell_type": "code",
   "execution_count": 42,
   "metadata": {},
   "outputs": [],
   "source": [
    "overbar = np.mean(result2, axis = 1)"
   ]
  },
  {
   "cell_type": "code",
   "execution_count": 57,
   "metadata": {},
   "outputs": [],
   "source": [
    "fluctuating = result2 - np.mean(result2, axis = 1, keepdims=True)"
   ]
  },
  {
   "cell_type": "code",
   "execution_count": 59,
   "metadata": {},
   "outputs": [
    {
     "data": {
      "text/plain": [
       "(340, 384, 92)"
      ]
     },
     "execution_count": 59,
     "metadata": {},
     "output_type": "execute_result"
    }
   ],
   "source": [
    "fluctuating.shape"
   ]
  },
  {
   "cell_type": "code",
   "execution_count": 61,
   "metadata": {},
   "outputs": [
    {
     "data": {
      "text/plain": [
       "[<matplotlib.lines.Line2D at 0x2aaba2727160>]"
      ]
     },
     "execution_count": 61,
     "metadata": {},
     "output_type": "execute_result"
    },
    {
     "data": {
      "image/png": "[encoded data removed]",
      "text/plain": [
       "<Figure size 432x288 with 1 Axes>"
      ]
     },
     "metadata": {
      "needs_background": "light"
     },
     "output_type": "display_data"
    }
   ],
   "source": [
    "plt.plot(overbar[100:150,34])"
   ]
  },
  {
   "cell_type": "code",
   "execution_count": 50,
   "metadata": {},
   "outputs": [
    {
     "data": {
      "text/plain": [
       "0.5326001637430072"
      ]
     },
     "execution_count": 50,
     "metadata": {},
     "output_type": "execute_result"
    }
   ],
   "source": [
    "s_mesh[0,34]"
   ]
  },
  {
   "cell_type": "code",
   "execution_count": 21,
   "metadata": {},
   "outputs": [
    {
     "name": "stdout",
     "output_type": "stream",
     "text": [
      "CPU times: user 8.16 s, sys: 1.25 s, total: 9.41 s\n",
      "Wall time: 9.31 s\n"
     ]
    }
   ],
   "source": [
    "%time data = np.asarray(dataset)"
   ]
  },
  {
   "cell_type": "code",
   "execution_count": 19,
   "metadata": {},
   "outputs": [
    {
     "name": "stdout",
     "output_type": "stream",
     "text": [
      "CPU times: user 22 µs, sys: 4 µs, total: 26 µs\n",
      "Wall time: 32.4 µs\n"
     ]
    }
   ],
   "source": [
    "%time data = data[:,0,:,:,:]"
   ]
  },
  {
   "cell_type": "code",
   "execution_count": 101,
   "metadata": {},
   "outputs": [
    {
     "data": {
      "text/plain": [
       "array([            nan, -6.48864386e-05, -7.37916565e-05, -1.27107630e-04,\n",
       "       -7.20284866e-04, -2.21939988e-03, -5.12323237e-03, -5.16918472e-03,\n",
       "       -8.34778554e-03, -9.68516664e-03, -1.33645665e-02, -1.02446806e-02,\n",
       "        3.50217977e-03,  3.07211175e-02,  1.34347758e-01,  5.13880557e-02,\n",
       "       -1.11581354e-01,  2.60417574e-01,  2.63643449e-01,  3.76708501e-01,\n",
       "        4.93814785e-01,  4.40649142e-01,  4.20759299e-01,  6.90793767e-02,\n",
       "       -7.28855286e-01, -1.76792262e+00, -2.98671475e+00, -3.87920311e+00,\n",
       "       -3.78263937e+00, -2.03455670e+00,  6.07378170e-01,  3.86963555e+00,\n",
       "        4.75641092e+00,  4.48324297e-01, -1.43507261e+01, -1.78229049e+01,\n",
       "        1.26670794e+01,  6.03513676e+01,  1.03838017e+02,  1.37658743e+02,\n",
       "        1.58488557e+02,  1.67726350e+02,  1.55229275e+02,  1.34296323e+02,\n",
       "        1.00445355e+02,  6.33867374e+01,  2.71022616e+01, -5.18711252e+00,\n",
       "       -3.00514420e+01, -4.95149839e+01, -6.33689159e+01, -7.20204447e+01,\n",
       "       -7.79076219e+01, -7.89093819e+01, -7.84731277e+01, -7.32186159e+01,\n",
       "       -6.65802044e+01, -5.57971001e+01, -4.26809193e+01, -2.80182791e+01,\n",
       "       -1.46974873e+01, -2.43705458e+00,  3.23554731e+00,  7.88419994e+00,\n",
       "        5.05769822e+00,  1.29103489e+00, -4.05827065e+00, -8.38581100e+00,\n",
       "       -1.06327322e+01, -1.00201756e+01, -7.77009977e+00, -4.38356449e+00,\n",
       "       -1.28114868e+00,  1.10203286e+00,  1.87495807e+00,  1.90220156e+00,\n",
       "        1.25364933e+00,  4.19764507e-01, -1.51557765e-01, -3.77553804e-01,\n",
       "       -2.33896755e-01,  3.62782939e-02,  2.06632432e-01,  2.44939241e-01,\n",
       "        6.39638385e-02, -1.82726625e-01, -4.04585912e-01, -5.07136091e-01,\n",
       "       -4.51025123e-01, -3.22782503e-01, -1.57303447e-01, -1.66896892e-02])"
      ]
     },
     "execution_count": 101,
     "metadata": {},
     "output_type": "execute_result"
    }
   ],
   "source": [
    "result2[0,0]-test"
   ]
  },
  {
   "cell_type": "code",
   "execution_count": 97,
   "metadata": {},
   "outputs": [
    {
     "data": {
      "text/plain": [
       "(20, 384, 92)"
      ]
     },
     "execution_count": 97,
     "metadata": {},
     "output_type": "execute_result"
    }
   ],
   "source": [
    "result.shape"
   ]
  },
  {
   "cell_type": "code",
   "execution_count": 126,
   "metadata": {
    "scrolled": true
   },
   "outputs": [],
   "source": [
    "result = np.asarray(result)\n",
    "result2 = np.asarray(result2)"
   ]
  },
  {
   "cell_type": "code",
   "execution_count": 31,
   "metadata": {
    "scrolled": true
   },
   "outputs": [
    {
     "data": {
      "text/plain": [
       "array([            nan,  1.75305072e-03,  1.23849628e-02,  3.13311380e-02,\n",
       "        6.10813204e-02,  7.89918635e-02,  9.52896813e-02,  1.07642654e-01,\n",
       "        1.22897404e-01,  1.40587375e-01,  1.58507434e-01,  1.78014650e-01,\n",
       "        1.59038112e-01,  2.22636090e-01,  5.11983377e-01,  2.62897438e-01,\n",
       "        2.33450994e-01,  2.50398657e-01,  2.54750133e-01,  4.14385096e-01,\n",
       "        2.86142383e-01,  1.74151549e-01,  1.53324740e-01,  7.75412579e-02,\n",
       "        4.54657697e-02,  7.96444441e-02,  1.73035390e-01,  2.72724932e-01,\n",
       "        3.25913767e-01,  4.41477598e-01,  8.55486334e-01,  1.71925270e+00,\n",
       "        8.57766103e+00,  2.48780539e+01,  6.43987325e+01,  1.06808317e+02,\n",
       "        1.26469568e+02,  1.31022571e+02,  1.19707165e+02,  1.04201369e+02,\n",
       "        7.82649175e+01,  4.66144478e+01,  1.07623721e+01, -2.44590058e+01,\n",
       "       -5.68215043e+01, -8.37201769e+01, -1.00445419e+02, -1.09199719e+02,\n",
       "       -1.06996107e+02, -9.47629200e+01, -7.68650100e+01, -5.49779746e+01,\n",
       "       -3.27726430e+01, -1.43524506e+01, -1.60144182e-01,  7.65740949e+00,\n",
       "        1.09535375e+01,  9.23570953e+00,  6.18474226e+00,  1.69705961e+00,\n",
       "       -2.73059808e+00, -6.27174076e+00, -8.59853395e+00, -9.72901867e+00,\n",
       "       -9.64255874e+00, -8.91088801e+00, -7.76417582e+00, -6.45184472e+00,\n",
       "       -5.07787835e+00, -3.83823747e+00, -2.72805920e+00, -1.89577662e+00,\n",
       "       -1.30722191e+00, -9.73303664e-01, -8.77286307e-01, -8.28492818e-01,\n",
       "       -8.11668744e-01, -7.53296962e-01, -6.73991599e-01, -5.72966103e-01,\n",
       "       -4.77378084e-01, -4.16422777e-01, -3.77367657e-01, -3.51126161e-01,\n",
       "       -3.21378471e-01, -2.82858879e-01, -2.28964747e-01, -1.74674272e-01,\n",
       "       -1.28419564e-01, -1.02780857e-01, -8.97221656e-02, -8.42751723e-02])"
      ]
     },
     "execution_count": 31,
     "metadata": {},
     "output_type": "execute_result"
    }
   ],
   "source": [
    "result[0,0]"
   ]
  },
  {
   "cell_type": "code",
   "execution_count": 32,
   "metadata": {},
   "outputs": [
    {
     "data": {
      "text/plain": [
       "array([            nan,  1.64817315e-03,  1.15797843e-02,  3.24834318e-02,\n",
       "        6.09009103e-02,  7.89918635e-02,  9.53754838e-02,  1.07520488e-01,\n",
       "        1.22897404e-01,  1.40587375e-01,  1.58139589e-01,  1.74844718e-01,\n",
       "        1.59038112e-01,  2.22636090e-01,  5.11983377e-01,  2.07742712e-01,\n",
       "        2.24049184e-01,  2.89185348e-01,  2.36153677e-01,  4.16562958e-01,\n",
       "        2.60061233e-01,  1.80695702e-01,  1.53324740e-01,  7.12619085e-02,\n",
       "        4.93206420e-02,  7.96444441e-02,  1.71079831e-01,  2.71467094e-01,\n",
       "        3.22486012e-01,  4.68535375e-01,  8.55486334e-01,  1.98085252e+00,\n",
       "        8.57766103e+00,  2.48780539e+01,  6.45899345e+01,  1.07164482e+02,\n",
       "        1.29012804e+02,  1.30677567e+02,  1.21622651e+02,  1.04353287e+02,\n",
       "        7.82649175e+01,  4.67853440e+01,  1.06550898e+01, -2.44590058e+01,\n",
       "       -5.68215043e+01, -8.37201769e+01, -1.00445419e+02, -1.09199719e+02,\n",
       "       -1.05853122e+02, -9.47020228e+01, -7.64675959e+01, -5.49779746e+01,\n",
       "       -3.27726430e+01, -1.53072191e+01,  2.98800646e-02,  6.60340307e+00,\n",
       "        1.09535375e+01,  9.71474103e+00,  6.29721564e+00,  1.69860435e+00,\n",
       "       -2.46944669e+00, -6.27174076e+00, -8.15047016e+00, -9.73786577e+00,\n",
       "       -9.47540516e+00, -8.95201870e+00, -7.76417582e+00, -6.44878054e+00,\n",
       "       -5.07721957e+00, -3.81257158e+00, -2.72805920e+00, -1.89577662e+00,\n",
       "       -1.30722191e+00, -9.73303664e-01, -8.77286307e-01, -8.25747866e-01,\n",
       "       -8.11668744e-01, -7.53296962e-01, -6.73326025e-01, -5.70931944e-01,\n",
       "       -4.76788089e-01, -4.16422777e-01, -3.77367657e-01, -3.51126161e-01,\n",
       "       -3.21378471e-01, -2.82858879e-01, -2.28964747e-01, -1.72698726e-01,\n",
       "       -1.30742711e-01, -1.02780857e-01, -8.97369788e-02, -8.42751723e-02])"
      ]
     },
     "execution_count": 32,
     "metadata": {},
     "output_type": "execute_result"
    }
   ],
   "source": [
    "result2[0,0]"
   ]
  },
  {
   "cell_type": "code",
   "execution_count": 54,
   "metadata": {},
   "outputs": [],
   "source": [
    "mydir = \"data_Ek5e-6Ra300_L191N63_init5max10e-7-u\"\n",
    "r_inner = 7/13.\n",
    "r_outer = 20./13.\n",
    "zs = np.linspace(-r_outer, r_outer, 66)[1:-1]\n",
    "#zs = np.geomspace((r_outer+1)**2,1, 31)**(1/2)-1 not complete thought\n",
    "plotvar = 'u'\n",
    "remove_m0 = False\n",
    "saveplots = False\n",
    "getData = True\n",
    "cutheadtail = True\n",
    "method = 'fastlinear'\n",
    "#vmin = -300 \n",
    "#vmax = 300\n",
    "alldata =[]\n",
    "for z in zs:\n",
    "    alldata.append(makeplots(mydir, r_inner, r_outer, z))"
   ]
  },
  {
   "cell_type": "code",
   "execution_count": 56,
   "metadata": {},
   "outputs": [],
   "source": [
    "tempvar = [np.asarray(data) for data in alldata]"
   ]
  },
  {
   "cell_type": "code",
   "execution_count": 162,
   "metadata": {},
   "outputs": [
    {
     "data": {
      "text/plain": [
       "False"
      ]
     },
     "execution_count": 162,
     "metadata": {},
     "output_type": "execute_result"
    }
   ],
   "source": [
    "tempvar[0][0,0,1] == np.nan"
   ]
  },
  {
   "cell_type": "code",
   "execution_count": 163,
   "metadata": {
    "scrolled": true
   },
   "outputs": [
    {
     "data": {
      "text/plain": [
       "nan"
      ]
     },
     "execution_count": 163,
     "metadata": {},
     "output_type": "execute_result"
    }
   ],
   "source": [
    "np.mean([2,4,np.nan,np.nan])"
   ]
  },
  {
   "cell_type": "code",
   "execution_count": 6,
   "metadata": {
    "scrolled": true
   },
   "outputs": [
    {
     "data": {
      "text/plain": [
       "array([[0.88844704, 0.35048724],\n",
       "       [0.43160223, 0.63876201],\n",
       "       [0.66744567, 0.95312067],\n",
       "       [0.94556566, 0.12424923],\n",
       "       [0.54272471, 0.01398695]])"
      ]
     },
     "execution_count": 6,
     "metadata": {},
     "output_type": "execute_result"
    }
   ],
   "source": [
    "test= np.random.rand(5,2)\n",
    "test"
   ]
  },
  {
   "cell_type": "code",
   "execution_count": 11,
   "metadata": {},
   "outputs": [
    {
     "data": {
      "text/plain": [
       "array([[0.88844704, 0.35048724],\n",
       "       [0.43160223, 0.63876201],\n",
       "       [0.66744567, 0.95312067],\n",
       "       [0.94556566, 0.12424923],\n",
       "       [0.54272471, 0.01398695]])"
      ]
     },
     "execution_count": 11,
     "metadata": {},
     "output_type": "execute_result"
    }
   ],
   "source": [
    "test = test[:,::-1]\n",
    "test"
   ]
  },
  {
   "cell_type": "code",
   "execution_count": 62,
   "metadata": {
    "collapsed": true
   },
   "outputs": [
    {
     "name": "stdout",
     "output_type": "stream",
     "text": [
      "24\n",
      "34\n",
      "41\n",
      "47\n",
      "52\n",
      "57\n",
      "61\n",
      "64\n",
      "68\n",
      "71\n",
      "73\n",
      "76\n",
      "78\n",
      "80\n",
      "82\n",
      "84\n",
      "86\n",
      "88\n",
      "89\n",
      "90\n",
      "92\n",
      "79\n",
      "75\n",
      "72\n",
      "69\n",
      "68\n",
      "66\n",
      "65\n",
      "65\n",
      "64\n",
      "64\n",
      "64\n",
      "64\n",
      "64\n",
      "64\n",
      "65\n",
      "65\n",
      "66\n",
      "68\n",
      "69\n",
      "72\n",
      "75\n",
      "79\n",
      "92\n",
      "90\n",
      "89\n",
      "88\n",
      "86\n",
      "84\n",
      "82\n",
      "80\n",
      "78\n",
      "76\n",
      "73\n",
      "71\n",
      "68\n",
      "64\n",
      "61\n",
      "57\n",
      "52\n",
      "47\n",
      "41\n",
      "34\n",
      "24\n"
     ]
    },
    {
     "data": {
      "text/plain": [
       "[None,\n",
       " None,\n",
       " None,\n",
       " None,\n",
       " None,\n",
       " None,\n",
       " None,\n",
       " None,\n",
       " None,\n",
       " None,\n",
       " None,\n",
       " None,\n",
       " None,\n",
       " None,\n",
       " None,\n",
       " None,\n",
       " None,\n",
       " None,\n",
       " None,\n",
       " None,\n",
       " None,\n",
       " None,\n",
       " None,\n",
       " None,\n",
       " None,\n",
       " None,\n",
       " None,\n",
       " None,\n",
       " None,\n",
       " None,\n",
       " None,\n",
       " None,\n",
       " None,\n",
       " None,\n",
       " None,\n",
       " None,\n",
       " None,\n",
       " None,\n",
       " None,\n",
       " None,\n",
       " None,\n",
       " None,\n",
       " None,\n",
       " None,\n",
       " None,\n",
       " None,\n",
       " None,\n",
       " None,\n",
       " None,\n",
       " None,\n",
       " None,\n",
       " None,\n",
       " None,\n",
       " None,\n",
       " None,\n",
       " None,\n",
       " None,\n",
       " None,\n",
       " None,\n",
       " None,\n",
       " None,\n",
       " None,\n",
       " None,\n",
       " None]"
      ]
     },
     "execution_count": 62,
     "metadata": {},
     "output_type": "execute_result"
    }
   ],
   "source": [
    "[print(var.shape[2]) for var in tempvar]"
   ]
  },
  {
   "cell_type": "code",
   "execution_count": 104,
   "metadata": {
    "scrolled": true
   },
   "outputs": [
    {
     "data": {
      "text/plain": [
       "[<matplotlib.lines.Line2D at 0x2aab95131b80>]"
      ]
     },
     "execution_count": 104,
     "metadata": {},
     "output_type": "execute_result"
    },
    {
     "data": {
      "image/png": "[encoded data removed]",
      "text/plain": [
       "<Figure size 432x288 with 1 Axes>"
      ]
     },
     "metadata": {
      "needs_background": "light"
     },
     "output_type": "display_data"
    }
   ],
   "source": [
    "    z = 0\n",
    "    if np.abs(z) < r_inner: \n",
    "        start_point = np.sqrt(r_inner**2 - z**2)\n",
    "    else:\n",
    "        start_point = np.arange(r_inner+density, 0, -density)[-1]\n",
    "    end_point = np.sqrt(r_outer**2 - z**2)\n",
    "    density = (r_outer-r_inner)/rscale.shape[0]\n",
    "    gridpoints = int(rscale.shape[0]/(r_outer-r_inner) * (end_point-start_point))\n",
    "    #finding equidistant point with the same density as the original grid along the path of interpolation\n",
    "    z_desired = np.asarray(np.linspace( start_point, end_point, num = gridpoints, endpoint = False))\n",
    "    z_desired2 = np.arange(start_point, end_point, density)\n",
    "    plt.plot(z_desired)\n",
    "    plt.plot(z_desired2)"
   ]
  },
  {
   "cell_type": "code",
   "execution_count": 145,
   "metadata": {},
   "outputs": [],
   "source": [
    "    rthetaphi = np.asarray([[r, theta, phi] for phi in phiscale for theta in thetascale for r in rscale])"
   ]
  },
  {
   "cell_type": "code",
   "execution_count": 183,
   "metadata": {},
   "outputs": [],
   "source": [
    "    gridpoints = int(rscale.shape[0]/(r_outer-r_inner) * 2*r_outer)\n",
    "    #finding equidistant point with the same density as the original grid along the path of interpolation\n",
    "    z_pad = np.append(np.asarray(np.linspace( -r_outer, r_outer, num = gridpoints, endpoint = False)),r_outer)\n",
    "    z_desired = z_pad[1:-1]\n",
    "    \n",
    "    gridpoints = int(rscale.shape[0]/(r_outer-r_inner) * r_outer)\n",
    "    r_pad = np.append(np.asarray(np.linspace( 0, r_outer, num = gridpoints, endpoint = False)),r_outer)\n",
    "    r_desired = r_pad[:-1]"
   ]
  },
  {
   "cell_type": "code",
   "execution_count": 186,
   "metadata": {
    "scrolled": true
   },
   "outputs": [],
   "source": [
    "    rthetaphi_desired = np.asarray([[np.sqrt(r**2+z**2), np.arccos(z/np.sqrt(r**2+z**2)), phi] for phi in phiscale for z in z_desired for r in r_desired])"
   ]
  },
  {
   "cell_type": "code",
   "execution_count": null,
   "metadata": {
    "scrolled": true
   },
   "outputs": [],
   "source": [
    "%time answer = griddata(rthetaphi, data[0].ravel(), rthetaphi_desired)"
   ]
  },
  {
   "cell_type": "code",
   "execution_count": null,
   "metadata": {},
   "outputs": [],
   "source": [
    "answer.shape"
   ]
  },
  {
   "cell_type": "code",
   "execution_count": 200,
   "metadata": {},
   "outputs": [
    {
     "data": {
      "text/plain": [
       "(4718592, 3)"
      ]
     },
     "execution_count": 200,
     "metadata": {},
     "output_type": "execute_result"
    }
   ],
   "source": [
    "rthetaphi.shape"
   ]
  },
  {
   "cell_type": "code",
   "execution_count": 98,
   "metadata": {
    "scrolled": true
   },
   "outputs": [
    {
     "data": {
      "text/plain": [
       "array([0.00721154, 0.02283654, 0.03846154, 0.05408654, 0.06971154,\n",
       "       0.08533654, 0.10096154, 0.11658654, 0.13221154, 0.14783654,\n",
       "       0.16346154, 0.17908654, 0.19471154, 0.21033654, 0.22596154,\n",
       "       0.24158654, 0.25721154, 0.27283654, 0.28846154, 0.30408654,\n",
       "       0.31971154, 0.33533654, 0.35096154, 0.36658654, 0.38221154,\n",
       "       0.39783654, 0.41346154, 0.42908654, 0.44471154, 0.46033654,\n",
       "       0.47596154, 0.49158654, 0.50721154, 0.52283654, 0.53846154,\n",
       "       0.55408654, 0.56971154, 0.58533654, 0.60096154, 0.61658654,\n",
       "       0.63221154, 0.64783654, 0.66346154, 0.67908654, 0.69471154,\n",
       "       0.71033654, 0.72596154, 0.74158654, 0.75721154, 0.77283654,\n",
       "       0.78846154, 0.80408654, 0.81971154, 0.83533654, 0.85096154,\n",
       "       0.86658654, 0.88221154, 0.89783654, 0.91346154, 0.92908654,\n",
       "       0.94471154, 0.96033654, 0.97596154, 0.99158654, 1.00721154,\n",
       "       1.02283654, 1.03846154, 1.05408654, 1.06971154, 1.08533654,\n",
       "       1.10096154, 1.11658654, 1.13221154, 1.14783654, 1.16346154,\n",
       "       1.17908654, 1.19471154, 1.21033654, 1.22596154, 1.24158654,\n",
       "       1.25721154, 1.27283654, 1.28846154, 1.30408654, 1.31971154,\n",
       "       1.33533654, 1.35096154, 1.36658654, 1.38221154, 1.39783654,\n",
       "       1.41346154, 1.42908654, 1.44471154, 1.46033654, 1.47596154,\n",
       "       1.49158654, 1.50721154, 1.52283654])"
      ]
     },
     "execution_count": 98,
     "metadata": {},
     "output_type": "execute_result"
    }
   ],
   "source": [
    "    start_point = np.arange(r_inner+density, 0, -density)[-1]\n",
    "    np.arange(start_point, end_point, density)"
   ]
  },
  {
   "cell_type": "code",
   "execution_count": 126,
   "metadata": {},
   "outputs": [],
   "source": [
    "density = 3*(r_outer-r_inner)/rscale.shape[0]"
   ]
  },
  {
   "cell_type": "code",
   "execution_count": 127,
   "metadata": {
    "scrolled": false
   },
   "outputs": [
    {
     "data": {
      "text/plain": [
       "[0.0,\n",
       " 0.219735075956865,\n",
       " 0.3035992028341617,\n",
       " 0.3628593626562607,\n",
       " 0.40837094279965236,\n",
       " 0.44437844854228264,\n",
       " 0.47305713490509305,\n",
       " 0.49568071274801945,\n",
       " 0.5130508296905423,\n",
       " 0.525688508008234,\n",
       " 0.5339298922215278,\n",
       " 0.5379770635570456]"
      ]
     },
     "execution_count": 127,
     "metadata": {},
     "output_type": "execute_result"
    }
   ],
   "source": [
    "zs = [np.sqrt(2*n*r_inner*density - n**2*density**2) for n in range(len(np.arange(r_inner, 0, -density)))]\n",
    "zs"
   ]
  },
  {
   "cell_type": "code",
   "execution_count": 144,
   "metadata": {},
   "outputs": [
    {
     "data": {
      "text/plain": [
       "(10, 384, 192, 64)"
      ]
     },
     "execution_count": 144,
     "metadata": {},
     "output_type": "execute_result"
    }
   ],
   "source": [
    "data.shape"
   ]
  },
  {
   "cell_type": "code",
   "execution_count": 143,
   "metadata": {},
   "outputs": [
    {
     "data": {
      "text/plain": [
       "(340, 1, 24)"
      ]
     },
     "execution_count": 143,
     "metadata": {},
     "output_type": "execute_result"
    }
   ],
   "source": [
    "np.mean(tempvar[0], axis =1, keepdims = True).shape"
   ]
  },
  {
   "cell_type": "code",
   "execution_count": 128,
   "metadata": {
    "scrolled": true
   },
   "outputs": [
    {
     "data": {
      "text/plain": [
       "array([0.53846154, 0.49158654, 0.44471154, 0.39783654, 0.35096154,\n",
       "       0.30408654, 0.25721154, 0.21033654, 0.16346154, 0.11658654,\n",
       "       0.06971154, 0.02283654])"
      ]
     },
     "execution_count": 128,
     "metadata": {},
     "output_type": "execute_result"
    }
   ],
   "source": [
    "np.sqrt(r_inner**2*np.ones(len(zs)) - np.array(zs)**2)"
   ]
  },
  {
   "cell_type": "code",
   "execution_count": 130,
   "metadata": {},
   "outputs": [
    {
     "data": {
      "text/plain": [
       "array([0.53846154, 0.35096154, 0.16346154])"
      ]
     },
     "execution_count": 130,
     "metadata": {},
     "output_type": "execute_result"
    }
   ],
   "source": [
    "    np.arange(r_inner, 0, -4*density)"
   ]
  },
  {
   "cell_type": "code",
   "execution_count": 69,
   "metadata": {},
   "outputs": [
    {
     "name": "stdout",
     "output_type": "stream",
     "text": [
      "CPU times: user 1min 25s, sys: 13.6 s, total: 1min 38s\n",
      "Wall time: 1min 38s\n"
     ]
    }
   ],
   "source": [
    "mydir = \"data_Ek5e-6Ra300_L191N63_init5max10e-7-u\"\n",
    "r_inner = 7/13.\n",
    "r_outer = 20./13.\n",
    "#z = r_inner + factor*(r_outer-r_inner)\n",
    "z = 0\n",
    "plotvar = 'T'\n",
    "remove_m0 = False\n",
    "saveplots = False\n",
    "getData = True\n",
    "cutheadtail = True\n",
    "alldata = []\n",
    "vmin = -0.1\n",
    "vmax = 0.1\n",
    "method = 'fastlinear'\n",
    "%time makeplots(mydir, r_inner, r_outer, z)"
   ]
  },
  {
   "cell_type": "code",
   "execution_count": 63,
   "metadata": {},
   "outputs": [
    {
     "name": "stdout",
     "output_type": "stream",
     "text": [
      "CPU times: user 2min 46s, sys: 15.8 s, total: 3min 2s\n",
      "Wall time: 3min 1s\n"
     ]
    }
   ],
   "source": [
    "mydir = \"data_Ek5e-6Ra300_L191N63_init5max10e-7-u\"\n",
    "r_inner = 7/13.\n",
    "r_outer = 20./13.\n",
    "#z = r_inner + factor*(r_outer-r_inner)\n",
    "z = 0\n",
    "plotvar = 'T'\n",
    "remove_m0 = False\n",
    "saveplots = False\n",
    "getData = True\n",
    "cutheadtail = True\n",
    "alldata = []\n",
    "vmin = 0\n",
    "vmax = 1\n",
    "method = 'fastlinear'\n",
    "%time makeplots(mydir, r_inner, r_outer, z)"
   ]
  }
 ],
 "metadata": {
  "kernelspec": {
   "display_name": "Python 3",
   "language": "python",
   "name": "python3"
  },
  "language_info": {
   "codemirror_mode": {
    "name": "ipython",
    "version": 3
   },
   "file_extension": ".py",
   "mimetype": "text/x-python",
   "name": "python",
   "nbconvert_exporter": "python",
   "pygments_lexer": "ipython3",
   "version": "3.8.5"
  }
 },
 "nbformat": 4,
 "nbformat_minor": 4
}
